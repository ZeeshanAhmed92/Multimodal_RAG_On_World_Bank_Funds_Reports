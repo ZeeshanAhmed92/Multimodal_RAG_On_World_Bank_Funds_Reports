{
 "cells": [
  {
   "cell_type": "code",
   "execution_count": 67,
   "id": "c469c22d",
   "metadata": {},
   "outputs": [
    {
     "name": "stdout",
     "output_type": "stream",
     "text": [
      "drwxrwxrwx 1 zeeshan zeeshan     4096 Jul 13 22:52 output\n",
      "drwxrwxrwx 1 zeeshan zeeshan     4096 Jul 14 00:27 output/vectorstore\n",
      "drwxrwxrwx 1 zeeshan zeeshan     4096 Jul 13 23:44 output/vectorstore/5e885cd3-2116-41c9-88b8-9be6a85e8818\n",
      "-rwxrwxrwx 1 zeeshan zeeshan 38707200 Jul 14 00:27 output/vectorstore/chroma.sqlite3\n"
     ]
    }
   ],
   "source": [
    "!ls -ld output output/vectorstore output/vectorstore/*"
   ]
  },
  {
   "cell_type": "code",
   "execution_count": 68,
   "id": "6466d204",
   "metadata": {},
   "outputs": [],
   "source": [
    "!chmod -R u+rw output/"
   ]
  },
  {
   "cell_type": "code",
   "execution_count": 69,
   "id": "41da7e1f",
   "metadata": {},
   "outputs": [],
   "source": [
    "!chmod -R 777 output/\n"
   ]
  },
  {
   "cell_type": "code",
   "execution_count": 70,
   "id": "8f3e4fd0",
   "metadata": {},
   "outputs": [],
   "source": [
    "# %% Imports\n",
    "import os, json, uuid, hashlib, base64, pickle\n",
    "from base64 import b64decode\n",
    "from pathlib import Path\n",
    "from typing import List, Dict\n",
    "from tqdm import tqdm\n",
    "\n",
    "from unstructured.partition.pdf import partition_pdf\n",
    "\n",
    "from langchain.chat_models import ChatOpenAI\n",
    "from langchain_openai import ChatOpenAI as VisionModel\n",
    "from langchain.vectorstores import Chroma\n",
    "from langchain.embeddings import OpenAIEmbeddings\n",
    "from langchain.schema.document import Document\n",
    "from langchain.retrievers.multi_vector import MultiVectorRetriever\n",
    "from langchain.storage import InMemoryStore\n",
    "from langchain_core.prompts import ChatPromptTemplate\n",
    "from langchain_core.output_parsers import StrOutputParser\n",
    "from langchain_core.runnables import RunnablePassthrough, RunnableLambda\n",
    "from langchain_core.messages import HumanMessage"
   ]
  },
  {
   "cell_type": "code",
   "execution_count": 71,
   "id": "e3bc0323",
   "metadata": {},
   "outputs": [],
   "source": [
    "# --- CONFIG ---\n",
    "SOURCE_DIR = Path(\"source_docs\")\n",
    "HASH_FILE = Path(\"output/hashes.json\")\n",
    "VSTORE_DIR = Path(\"output/vectorstore\")\n",
    "DOCSTORE_PATH = Path(\"output/docstore/docstore.pkl\")\n",
    "\n",
    "# Create necessary directories\n",
    "VSTORE_DIR.mkdir(parents=True, exist_ok=True)\n",
    "DOCSTORE_PATH.parent.mkdir(parents=True, exist_ok=True)\n",
    "HASH_FILE.parent.mkdir(parents=True, exist_ok=True)\n",
    "EMBEDDINGS = OpenAIEmbeddings()"
   ]
  },
  {
   "cell_type": "code",
   "execution_count": 72,
   "id": "d1f8fcdb",
   "metadata": {},
   "outputs": [],
   "source": [
    "def get_file_hash(filepath: Path) -> str:\n",
    "    hasher = hashlib.sha256()\n",
    "    with open(filepath, \"rb\") as f:\n",
    "        hasher.update(f.read())\n",
    "    return hasher.hexdigest()\n",
    "\n",
    "def load_hashes(json_path: Path) -> dict:\n",
    "    if json_path.exists():\n",
    "        with open(json_path, \"r\") as f:\n",
    "            return json.load(f)\n",
    "    return {}\n",
    "\n",
    "def save_hashes(hashes: dict, json_path: Path):\n",
    "    with open(json_path, \"w\") as f:\n",
    "        json.dump(hashes, f, indent=2)\n"
   ]
  },
  {
   "cell_type": "code",
   "execution_count": 73,
   "id": "13782715",
   "metadata": {},
   "outputs": [],
   "source": [
    "def parse_pdf_elements(filepath: str):\n",
    "    chunks = partition_pdf(\n",
    "        filename=filepath,\n",
    "        infer_table_structure=True,\n",
    "        strategy=\"hi_res\",\n",
    "        extract_image_block_types=[\"Image\"],\n",
    "        extract_image_block_to_payload=True,\n",
    "        chunking_strategy=\"by_title\",\n",
    "        max_characters=10000,\n",
    "        combine_text_under_n_chars=2000,\n",
    "        new_after_n_chars=6000,\n",
    "    )\n",
    "    tables, texts, images = [], [], []\n",
    "    for chunk in chunks:\n",
    "        if \"CompositeElement\" in str(type(chunk)):\n",
    "            for el in chunk.metadata.orig_elements:\n",
    "                if \"Table\" in str(type(el)):\n",
    "                    tables.append(el)\n",
    "                elif \"Image\" in str(type(el)):\n",
    "                    images.append(el.metadata.image_base64)\n",
    "            texts.append(chunk)\n",
    "    return texts, tables, images"
   ]
  },
  {
   "cell_type": "code",
   "execution_count": 74,
   "id": "66c3b94f",
   "metadata": {},
   "outputs": [],
   "source": [
    "def get_text_table_chain():\n",
    "    prompt = ChatPromptTemplate.from_template(\"\"\"\n",
    "    You are an assistant tasked with summarizing tables and text.\n",
    "    Give a concise summary of the table or text.\n",
    "    Respond only with the summary, no additional comment.\n",
    "    Table or text chunk: {element}\n",
    "    \"\"\")\n",
    "    model = ChatOpenAI(temperature=0.5, model=\"gpt-4.1-mini\")\n",
    "    return {\"element\": lambda x: x} | prompt | model | StrOutputParser()"
   ]
  },
  {
   "cell_type": "code",
   "execution_count": 75,
   "id": "41df8092",
   "metadata": {},
   "outputs": [],
   "source": [
    "def get_image_chain():\n",
    "    prompt = ChatPromptTemplate.from_messages([\n",
    "        (\"user\", [\n",
    "            {\"type\": \"text\", \"text\": \"Describe the image in detail. For context, it's from a trust fund report. Be specific.\"},\n",
    "            {\"type\": \"image_url\", \"image_url\": {\"url\": \"data:image/jpeg;base64,{image}\"}}\n",
    "        ])\n",
    "    ])\n",
    "    model = VisionModel(model=\"gpt-4.1-mini\")\n",
    "    return prompt | model | StrOutputParser()"
   ]
  },
  {
   "cell_type": "code",
   "execution_count": 76,
   "id": "5bbc7fc1",
   "metadata": {},
   "outputs": [],
   "source": [
    "def load_vectorstore(vstore_dir):\n",
    "    if not any(Path(vstore_dir).glob(\"*\")):\n",
    "        return Chroma(collection_name=\"multi_modal_rag\", persist_directory=str(vstore_dir), embedding_function=EMBEDDINGS)\n",
    "    try:\n",
    "        return Chroma(collection_name=\"multi_modal_rag\", persist_directory=str(vstore_dir), embedding_function=EMBEDDINGS)\n",
    "    except Exception:\n",
    "        import shutil\n",
    "        shutil.rmtree(vstore_dir, ignore_errors=True)\n",
    "        return Chroma(collection_name=\"multi_modal_rag\", persist_directory=str(vstore_dir), embedding_function=EMBEDDINGS)\n",
    "\n",
    "def load_docstore(docstore_path):\n",
    "    if docstore_path.exists():\n",
    "        with open(docstore_path, \"rb\") as f:\n",
    "            return pickle.load(f)\n",
    "    return InMemoryStore()\n",
    "\n",
    "def save_docstore(docstore, docstore_path):\n",
    "    with open(docstore_path, \"wb\") as f:\n",
    "        pickle.dump(docstore, f)"
   ]
  },
  {
   "cell_type": "code",
   "execution_count": 77,
   "id": "e47dd6a0",
   "metadata": {},
   "outputs": [],
   "source": [
    "def add_documents_to_retriever(retriever, elements, summaries, filename, id_key=\"doc_id\"):\n",
    "    if not elements or not summaries or len(elements) == 0 or len(summaries) == 0:\n",
    "        print(f\"⚠️ Skipping empty documents for: {filename} | {id_key}\")\n",
    "        return\n",
    "\n",
    "    doc_ids = [str(uuid.uuid4()) for _ in elements]\n",
    "    docs = [\n",
    "        Document(\n",
    "            page_content=summaries[i],\n",
    "            metadata={id_key: doc_ids[i], \"source_file\": filename},\n",
    "        )\n",
    "        for i in range(len(elements))\n",
    "    ]\n",
    "\n",
    "    if len(docs) == 0:\n",
    "        print(f\"⚠️ Skipped adding empty document list to retriever for {filename}\")\n",
    "        return\n",
    "\n",
    "    retriever.vectorstore.add_documents(docs)\n",
    "    retriever.docstore.mset(list(zip(doc_ids, elements)))\n"
   ]
  },
  {
   "cell_type": "code",
   "execution_count": 78,
   "id": "5b344d76",
   "metadata": {},
   "outputs": [],
   "source": [
    "# Load stores\n",
    "vectorstore = load_vectorstore(VSTORE_DIR)\n",
    "docstore = load_docstore(DOCSTORE_PATH)\n",
    "retriever = MultiVectorRetriever(\n",
    "    vectorstore=vectorstore,\n",
    "    docstore=docstore,\n",
    "    id_key=\"doc_id\"\n",
    ")"
   ]
  },
  {
   "cell_type": "code",
   "execution_count": 79,
   "id": "14d13ec6",
   "metadata": {},
   "outputs": [],
   "source": [
    "# Load chains\n",
    "text_table_chain = get_text_table_chain()\n",
    "image_chain = get_image_chain()\n",
    "file_hashes = load_hashes(HASH_FILE)"
   ]
  },
  {
   "cell_type": "code",
   "execution_count": 80,
   "id": "9f0944c8",
   "metadata": {},
   "outputs": [
    {
     "name": "stderr",
     "output_type": "stream",
     "text": [
      "📄 Processing PDFs:   0%|          | 0/5 [00:00<?, ?it/s]"
     ]
    },
    {
     "name": "stderr",
     "output_type": "stream",
     "text": [
      "📄 Processing PDFs:  40%|████      | 2/5 [00:00<00:00,  6.52it/s]"
     ]
    },
    {
     "name": "stdout",
     "output_type": "stream",
     "text": [
      "✅ Skipping (already processed): 2020TrustFundAnnualReports.pdf\n",
      "✅ Skipping (already processed): 2021TrustFundAnnualReports.pdf\n"
     ]
    },
    {
     "name": "stderr",
     "output_type": "stream",
     "text": [
      "📄 Processing PDFs:  40%|████      | 2/5 [00:00<00:00,  6.52it/s]"
     ]
    },
    {
     "name": "stdout",
     "output_type": "stream",
     "text": [
      "🧩 Processing new or updated: 2022TrustFundAnnualReports.pdf\n"
     ]
    },
    {
     "name": "stderr",
     "output_type": "stream",
     "text": [
      "📄 Processing PDFs:  60%|██████    | 3/5 [14:50<13:32, 406.46s/it]"
     ]
    },
    {
     "name": "stdout",
     "output_type": "stream",
     "text": [
      "🧩 Processing new or updated: 2023TrustFundAnnualReports.pdf\n"
     ]
    },
    {
     "name": "stderr",
     "output_type": "stream",
     "text": [
      "📄 Processing PDFs:  80%|████████  | 4/5 [31:50<10:48, 648.70s/it]"
     ]
    },
    {
     "name": "stdout",
     "output_type": "stream",
     "text": [
      "🧩 Processing new or updated: 2024TrustFundAnnualReports.pdf\n"
     ]
    },
    {
     "name": "stderr",
     "output_type": "stream",
     "text": [
      "Cannot set gray non-stroke color because /'P0' is an invalid float value\n",
      "Cannot set gray stroke color because /'P1' is an invalid float value\n",
      "Cannot set gray stroke color because /'P2' is an invalid float value\n",
      "Cannot set gray stroke color because /'P3' is an invalid float value\n",
      "Cannot set gray stroke color because /'P4' is an invalid float value\n",
      "Cannot set gray stroke color because /'P5' is an invalid float value\n",
      "Cannot set gray stroke color because /'P6' is an invalid float value\n",
      "Cannot set gray stroke color because /'P7' is an invalid float value\n",
      "Cannot set gray stroke color because /'P8' is an invalid float value\n",
      "Cannot set gray stroke color because /'P9' is an invalid float value\n",
      "Cannot set gray stroke color because /'P10' is an invalid float value\n",
      "Cannot set gray stroke color because /'P11' is an invalid float value\n",
      "Cannot set gray stroke color because /'P12' is an invalid float value\n",
      "Cannot set gray stroke color because /'P13' is an invalid float value\n",
      "Cannot set gray stroke color because /'P14' is an invalid float value\n",
      "Cannot set gray stroke color because /'P15' is an invalid float value\n",
      "Cannot set gray stroke color because /'P16' is an invalid float value\n",
      "Cannot set gray stroke color because /'P17' is an invalid float value\n",
      "📄 Processing PDFs: 100%|██████████| 5/5 [34:19<00:00, 411.95s/it]"
     ]
    },
    {
     "name": "stdout",
     "output_type": "stream",
     "text": [
      "⚠️ Skipping empty documents for: 2024TrustFundAnnualReports.pdf | doc_id\n"
     ]
    },
    {
     "name": "stderr",
     "output_type": "stream",
     "text": [
      "\n"
     ]
    }
   ],
   "source": [
    "for filepath in tqdm(list(SOURCE_DIR.glob(\"*.pdf\")), desc=\"📄 Processing PDFs\"):\n",
    "    file_hash = get_file_hash(filepath)\n",
    "    if file_hashes.get(filepath.name) == file_hash:\n",
    "        tqdm.write(f\"✅ Skipping (already processed): {filepath.name}\")\n",
    "        continue\n",
    "\n",
    "    tqdm.write(f\"🧩 Processing new or updated: {filepath.name}\")\n",
    "    try:\n",
    "        texts, tables, images = parse_pdf_elements(str(filepath))\n",
    "    except Exception as e:\n",
    "        tqdm.write(f\"❌ Failed to parse {filepath.name}: {str(e)}\")\n",
    "        continue\n",
    "\n",
    "    text_summaries = text_table_chain.batch(texts, {\"max_concurrency\": 3})\n",
    "    table_summaries = text_table_chain.batch([t.metadata.text_as_html for t in tables], {\"max_concurrency\": 3})\n",
    "    image_summaries = image_chain.batch(images)\n",
    "\n",
    "    add_documents_to_retriever(retriever, texts, text_summaries, filepath.name)\n",
    "    add_documents_to_retriever(retriever, tables, table_summaries, filepath.name)\n",
    "    add_documents_to_retriever(retriever, images, image_summaries, filepath.name)\n",
    "\n",
    "    file_hashes[filepath.name] = file_hash"
   ]
  },
  {
   "cell_type": "code",
   "execution_count": 85,
   "id": "58cf48f0",
   "metadata": {},
   "outputs": [
    {
     "name": "stdout",
     "output_type": "stream",
     "text": [
      "✅ Done: Vectorstore and docstore saved.\n"
     ]
    }
   ],
   "source": [
    "vectorstore.persist()\n",
    "save_docstore(docstore, DOCSTORE_PATH)\n",
    "save_hashes(file_hashes, HASH_FILE)\n",
    "print(\"✅ Done: Vectorstore and docstore saved.\")"
   ]
  },
  {
   "cell_type": "code",
   "execution_count": 86,
   "id": "942b2ad6",
   "metadata": {},
   "outputs": [],
   "source": [
    "def parse_docs(docs):\n",
    "    b64, text = [], []\n",
    "    for doc in docs:\n",
    "        try:\n",
    "            b64decode(doc)\n",
    "            b64.append(doc)\n",
    "        except Exception:\n",
    "            text.append(doc)\n",
    "    return {\"images\": b64, \"texts\": text}\n",
    "\n",
    "def build_prompt(kwargs):\n",
    "    docs_by_type = kwargs[\"context\"]\n",
    "    user_question = kwargs[\"question\"]\n",
    "\n",
    "    context_text = \"\".join([t.text for t in docs_by_type[\"texts\"]])\n",
    "    prompt_template = f\"\"\"\n",
    "    Answer the question based only on the following context, which can include text, tables, and the below image.\n",
    "    Context: {context_text}\n",
    "    Question: {user_question}\n",
    "    \"\"\"\n",
    "\n",
    "    prompt_content = [{\"type\": \"text\", \"text\": prompt_template.strip()}]\n",
    "    for image in docs_by_type[\"images\"]:\n",
    "        prompt_content.append({\"type\": \"image_url\", \"image_url\": {\"url\": f\"data:image/jpeg;base64,{image}\"}})\n",
    "\n",
    "    return ChatPromptTemplate.from_messages([HumanMessage(content=prompt_content)])"
   ]
  },
  {
   "cell_type": "code",
   "execution_count": 87,
   "id": "6b4a0f26",
   "metadata": {},
   "outputs": [],
   "source": [
    "def get_mm_rag_chain(retriever):\n",
    "    return (\n",
    "        {\n",
    "            \"context\": retriever | RunnableLambda(parse_docs),\n",
    "            \"question\": RunnablePassthrough(),\n",
    "        }\n",
    "        | RunnableLambda(build_prompt)\n",
    "        | ChatOpenAI(model=\"gpt-4o-mini\")\n",
    "        | StrOutputParser()\n",
    "    )\n",
    "\n",
    "def get_mm_rag_chain_with_sources(retriever):\n",
    "    return {\n",
    "        \"context\": retriever | RunnableLambda(parse_docs),\n",
    "        \"question\": RunnablePassthrough(),\n",
    "    } | RunnablePassthrough().assign(\n",
    "        response=(\n",
    "            RunnableLambda(build_prompt)\n",
    "            | ChatOpenAI(model=\"gpt-4o-mini\")\n",
    "            | StrOutputParser()\n",
    "        )\n",
    "    )\n"
   ]
  },
  {
   "cell_type": "code",
   "execution_count": 88,
   "id": "fbbd335d",
   "metadata": {},
   "outputs": [],
   "source": [
    "chain = get_mm_rag_chain(retriever)\n",
    "chain_with_sources = get_mm_rag_chain_with_sources(retriever)"
   ]
  },
  {
   "cell_type": "code",
   "execution_count": 93,
   "id": "37343b1e",
   "metadata": {},
   "outputs": [
    {
     "name": "stdout",
     "output_type": "stream",
     "text": [
      "\n",
      "🧠 Answer:\n",
      "Major replenishments in Financial Intermediary Funds (FIFs) are organized in chronological order based on their pledging sessions and include the following:\n",
      "\n",
      "1. **Global Fund**\n",
      "   - Pledging Session: October 2019\n",
      "   - Current Replenishment Cycle: FY2020–22\n",
      "   - Previous Replenishment: FY2017–19\n",
      "   - Amount: $14.0 billion\n",
      "\n",
      "2. **Green Climate Fund (GCF)**\n",
      "   - Pledging Session: October 2019\n",
      "   - Current Replenishment Cycle: FY2020–23\n",
      "   - Previous Replenishment: FY2015–19\n",
      "   - Amount: $10.0 billion\n",
      "\n",
      "3. **Global Agriculture and Food Security Program (GAFSP)**\n",
      "   - Pledging Session: October 2020\n",
      "   - Current Replenishment Cycle: FY2020–25\n",
      "   - Previous Replenishment: FY2010–20\n",
      "   - Amount: $1.5 billion\n",
      "\n",
      "4. **Global Partnership for Education (GPE)**\n",
      "   - Pledging Session: July 2021\n",
      "   - Current Replenishment Cycle: CY2021–25\n",
      "   - Previous Replenishment: CY2018–20\n",
      "   - Amount: $4.0 billion\n",
      "\n",
      "5. **Upcoming Replenishments**\n",
      "   - **Climate Investment Funds (CIF)**: No formal replenishment scheduled for FY2020–22, with tentative pledges totaling $8.0 billion since inception.\n",
      "   - **Global Environment Facility (GEF)**: Scheduled for Spring 2022, with a current replenishment cycle of FY2022–26 and a previous replenishment cycle of FY2018–22 amounting to $4.1 billion.\n",
      "\n",
      "These replenishments are crucial as they provide substantial funding for various global initiatives, including health, education, and climate action.\n"
     ]
    }
   ],
   "source": [
    "question = \"tell me about major replenishments in FIFs\"\n",
    "response = chain.invoke(question)\n",
    "print(f\"\\n🧠 Answer:\\n{response}\")"
   ]
  }
 ],
 "metadata": {
  "kernelspec": {
   "display_name": "doc-chroma",
   "language": "python",
   "name": "python3"
  },
  "language_info": {
   "codemirror_mode": {
    "name": "ipython",
    "version": 3
   },
   "file_extension": ".py",
   "mimetype": "text/x-python",
   "name": "python",
   "nbconvert_exporter": "python",
   "pygments_lexer": "ipython3",
   "version": "3.12.11"
  }
 },
 "nbformat": 4,
 "nbformat_minor": 5
}
